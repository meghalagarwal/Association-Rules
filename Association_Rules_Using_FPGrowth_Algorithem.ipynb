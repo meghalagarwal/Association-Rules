{
 "cells": [
  {
   "cell_type": "markdown",
   "metadata": {},
   "source": [
    "# Building FP-tree\n",
    "\n",
    "The FP-growth algorithm uses the following steps to build FP-tree from the database.\n",
    "\n",
    "Scan itemsets from the database for the first time\n",
    "Find frequent items (single item patterns) and order them into a list L in frequency descending order. For example, L = {A:5, C:3, D;2, B:1}\n",
    "For each transaction order its frequent items according to the order in L\n",
    "Scan the database the second time and construct FP-tree by putting each frequency ordered transaction onto it\n",
    "\n",
    "## To illustrate algorithm steps, let’s take a sample database and create an FP-tree out of it:\n",
    "\n",
    "<img src='https://hands-on.cloud/wp-content/uploads/2022/02/FP-growth-using-python-database.png?ezimgfmt=rs:289x132/rscb1/ng:webp/ngcb1'>\n",
    "\n",
    "## STEP 1:\n",
    "The first step is to scan the dataset, create a frequency table containing each item from the database, and arrange them in descending order. We also need to specify the minimum support (number of item occurrences). The algorithm will not put items with a support value less than the minimum support into the frequency table. For example, let’s set up the minimum support value equal to 3. In that case, we will get the following frequency table:\n",
    "\n",
    "<img src='https://hands-on.cloud/wp-content/uploads/2022/02/FP-growth-using-python-frequency-table.png?ezimgfmt=rs:141x153/rscb1/ng:webp/ngcb1'>\n",
    "\n",
    "Note: The algorithm did not include all items with frequency more minor than the minimum support value in the frequency table.\n",
    "\n",
    "## STEP 2:\n",
    "The next step is to scan the database the second time and arrange elements based on the frequency table:\n",
    "\n",
    "items with higher a frequency number will come first\n",
    "if two items have the same frequency number they will be arranged in alphabetical order\n",
    "\n",
    "<img src='https://hands-on.cloud/wp-content/uploads/2022/02/FP-growth-using-python-frequent-items.png?ezimgfmt=ng:webp/ngcb1'>\n",
    "\n",
    "## STEP 3:\n",
    "Now, we are ready to build the FP tree.\n",
    "\n",
    "We will start with a null node, and then based on the frequent items table, we will add nodes to the tree.\n",
    "\n",
    "For example, here’s how the FP-growth will construct the FP-tree for the first frequent item from the list:\n",
    "\n",
    "<img src='https://hands-on.cloud/wp-content/uploads/2022/02/FP-growth-using-python-fp-tree-first-itemslist.png?ezimgfmt=ng:webp/ngcb1'>\n",
    "\n",
    "Similarly, the next step will add the following item from the list to the FP-tree as shown below:\n",
    "\n",
    "<img src='https://hands-on.cloud/wp-content/uploads/2022/02/FP-growth-using-python-fp-second-list.png?ezimgfmt=ng:webp/ngcb1'>\n",
    "\n",
    "Note: As we add the same element to the tree, we increment the support. But after item \"a\" we created a new node for item \"b\" because there was no item \"b\" in our initial tree after item \"a\". And we have linked items \"m\" together because this is the same element located in different subtrees.\n",
    "\n",
    "## STEP 4:\n",
    "Similarly, we add other items from the frequent items table to the FP-tree.\n",
    "\n",
    "Here’s our final FP tree:\n",
    "\n",
    "<img src='https://hands-on.cloud/wp-content/uploads/2022/02/FP-growth-using-python-FINAL.png?ezimgfmt=ng:webp/ngcb1'>\n",
    "\n",
    "The FP tree is ready. Based on this tree, the FP-growth algorithm can create different association rules.\n",
    "\n",
    "## Building association rules\n",
    "\n",
    "Once the FP-growth algorithm constructed the FP-tree, it can build different associations rules based on the minimum support value. It will take the item with the minor support count and trace that item through the FP-tree to achieve that goal.\n",
    "\n",
    "In our example, the item \"p\" has the lowest support count, and the FP-growth algorithm will produce the following paths:\n",
    "\n",
    "{ {f, c, a, m, p : 2}, {c, b : 1} }\n",
    "\n",
    "Note: The item \"p\" is located in two different subtrees of the FP-tree, so the algorithm traced both paths and added the minimum support value for every path.\n",
    "\n",
    "<img src='https://hands-on.cloud/wp-content/uploads/2022/02/FP-growth-using-python-FINAL.png?ezimgfmt=ng:webp/ngcb1'>\n",
    "\n",
    "Similarly, the FP-growth will build the conditional pattern base table for all of the items from the FP-tree.\n",
    "\n",
    "The final conditional pattern base table for all elements in our example looks like this:\n",
    "\n",
    "<img src='https://hands-on.cloud/wp-content/uploads/2022/02/FP-growth-using-python-full-conditional-pattern-base.png?ezimgfmt=ng:webp/ngcb1'>\n",
    "\n",
    "The next step is to get all items from the Conditional Pattern Base column that satisfy the minimum support requirement.\n",
    "\n",
    "Let’s calculate elements’ occurrences for the \"p\" item:\n",
    "\n",
    "{ f, c, a, m : 2 }, { c, b : 1 } - > { f: 2, c:3, a:2, m:2, b:1 }\n",
    "\n",
    "Only item \"c\" appears three times and satisfies the minimum support requirement. That means the algorithm will remove all other items except \"c\".\n",
    "\n",
    "After removing items that do not meet the minimum support requirement, the algorithm will construct the following table:\n",
    "\n",
    "<img src='https://hands-on.cloud/wp-content/uploads/2022/02/Conditional-FP-tree.png?ezimgfmt=ng:webp/ngcb1'>\n",
    "\n",
    "The final step of creating association rules is to generate frequent patterns by pairing the items of the Conditional FP-tree column with the corresponding item from the Item column.\n",
    "\n",
    "For example, for the first row, the algorithm needs to take { c:3 } from the Conditional FP-tree column, create its combination with the \"p\" element and add the support count value. Similarly, the FP-growth algorithm will generate frequent patterns (or association rules):\n",
    "\n",
    "<img src='https://hands-on.cloud/wp-content/uploads/2022/02/FP-growth-Generated-Frequent-Patterns-1024x152.png?ezimgfmt=ng:webp/ngcb1'>"
   ]
  },
  {
   "cell_type": "code",
   "execution_count": 7,
   "metadata": {},
   "outputs": [
    {
     "name": "stdout",
     "output_type": "stream",
     "text": [
      "Defaulting to user installation because normal site-packages is not writeable\n",
      "Requirement already satisfied: pandas in /home/meghal/.local/lib/python3.10/site-packages (1.4.4)\n",
      "Requirement already satisfied: python-dateutil>=2.8.1 in /home/meghal/.local/lib/python3.10/site-packages (from pandas) (2.8.2)\n",
      "Requirement already satisfied: numpy>=1.21.0 in /home/meghal/.local/lib/python3.10/site-packages (from pandas) (1.23.2)\n",
      "Requirement already satisfied: pytz>=2020.1 in /usr/lib/python3/dist-packages (from pandas) (2022.1)\n",
      "Requirement already satisfied: six>=1.5 in /usr/lib/python3/dist-packages (from python-dateutil>=2.8.1->pandas) (1.16.0)\n",
      "Defaulting to user installation because normal site-packages is not writeable\n",
      "Requirement already satisfied: numpy in /home/meghal/.local/lib/python3.10/site-packages (1.23.2)\n",
      "Defaulting to user installation because normal site-packages is not writeable\n",
      "Requirement already satisfied: plotly in /home/meghal/.local/lib/python3.10/site-packages (5.10.0)\n",
      "Requirement already satisfied: tenacity>=6.2.0 in /home/meghal/.local/lib/python3.10/site-packages (from plotly) (8.0.1)\n",
      "Defaulting to user installation because normal site-packages is not writeable\n",
      "Requirement already satisfied: mlxtend in /home/meghal/.local/lib/python3.10/site-packages (0.20.0)\n",
      "Requirement already satisfied: joblib>=0.13.2 in /home/meghal/.local/lib/python3.10/site-packages (from mlxtend) (1.1.0)\n",
      "Requirement already satisfied: matplotlib>=3.0.0 in /home/meghal/.local/lib/python3.10/site-packages (from mlxtend) (3.5.3)\n",
      "Requirement already satisfied: pandas>=0.24.2 in /home/meghal/.local/lib/python3.10/site-packages (from mlxtend) (1.4.4)\n",
      "Requirement already satisfied: numpy>=1.16.2 in /home/meghal/.local/lib/python3.10/site-packages (from mlxtend) (1.23.2)\n",
      "Requirement already satisfied: scikit-learn>=1.0.2 in /home/meghal/.local/lib/python3.10/site-packages (from mlxtend) (1.1.2)\n",
      "Requirement already satisfied: scipy>=1.2.1 in /home/meghal/.local/lib/python3.10/site-packages (from mlxtend) (1.9.1)\n",
      "Requirement already satisfied: setuptools in /usr/lib/python3/dist-packages (from mlxtend) (59.6.0)\n",
      "Requirement already satisfied: fonttools>=4.22.0 in /home/meghal/.local/lib/python3.10/site-packages (from matplotlib>=3.0.0->mlxtend) (4.37.1)\n",
      "Requirement already satisfied: pillow>=6.2.0 in /usr/lib/python3/dist-packages (from matplotlib>=3.0.0->mlxtend) (9.0.1)\n",
      "Requirement already satisfied: kiwisolver>=1.0.1 in /home/meghal/.local/lib/python3.10/site-packages (from matplotlib>=3.0.0->mlxtend) (1.4.4)\n",
      "Requirement already satisfied: pyparsing>=2.2.1 in /usr/lib/python3/dist-packages (from matplotlib>=3.0.0->mlxtend) (2.4.7)\n",
      "Requirement already satisfied: cycler>=0.10 in /home/meghal/.local/lib/python3.10/site-packages (from matplotlib>=3.0.0->mlxtend) (0.11.0)\n",
      "Requirement already satisfied: python-dateutil>=2.7 in /home/meghal/.local/lib/python3.10/site-packages (from matplotlib>=3.0.0->mlxtend) (2.8.2)\n",
      "Requirement already satisfied: packaging>=20.0 in /home/meghal/.local/lib/python3.10/site-packages (from matplotlib>=3.0.0->mlxtend) (21.3)\n",
      "Requirement already satisfied: pytz>=2020.1 in /usr/lib/python3/dist-packages (from pandas>=0.24.2->mlxtend) (2022.1)\n",
      "Requirement already satisfied: threadpoolctl>=2.0.0 in /home/meghal/.local/lib/python3.10/site-packages (from scikit-learn>=1.0.2->mlxtend) (3.1.0)\n",
      "Requirement already satisfied: six>=1.5 in /usr/lib/python3/dist-packages (from python-dateutil>=2.7->matplotlib>=3.0.0->mlxtend) (1.16.0)\n"
     ]
    }
   ],
   "source": [
    "! pip install pandas\n",
    "! pip install numpy\n",
    "! pip install plotly\n",
    "! pip install mlxtend"
   ]
  },
  {
   "cell_type": "code",
   "execution_count": 8,
   "metadata": {},
   "outputs": [],
   "source": [
    "# importing module\n",
    "import pandas as pd\n",
    "# importing module\n",
    "import numpy as np\n",
    "# importing required module\n",
    "import plotly.express as px\n",
    "#Importing Libraries\n",
    "from mlxtend.frequent_patterns import fpgrowth\n",
    "# importing required module\n",
    "from mlxtend.frequent_patterns import association_rules"
   ]
  },
  {
   "cell_type": "code",
   "execution_count": 9,
   "metadata": {},
   "outputs": [
    {
     "data": {
      "text/html": [
       "<div>\n",
       "<style scoped>\n",
       "    .dataframe tbody tr th:only-of-type {\n",
       "        vertical-align: middle;\n",
       "    }\n",
       "\n",
       "    .dataframe tbody tr th {\n",
       "        vertical-align: top;\n",
       "    }\n",
       "\n",
       "    .dataframe thead th {\n",
       "        text-align: right;\n",
       "    }\n",
       "</style>\n",
       "<table border=\"1\" class=\"dataframe\">\n",
       "  <thead>\n",
       "    <tr style=\"text-align: right;\">\n",
       "      <th></th>\n",
       "      <th>shrimp</th>\n",
       "      <th>almonds</th>\n",
       "      <th>avocado</th>\n",
       "      <th>vegetables mix</th>\n",
       "      <th>green grapes</th>\n",
       "      <th>whole weat flour</th>\n",
       "      <th>yams</th>\n",
       "      <th>cottage cheese</th>\n",
       "      <th>energy drink</th>\n",
       "      <th>tomato juice</th>\n",
       "      <th>low fat yogurt</th>\n",
       "      <th>green tea</th>\n",
       "      <th>honey</th>\n",
       "      <th>salad</th>\n",
       "      <th>mineral water</th>\n",
       "      <th>salmon</th>\n",
       "      <th>antioxydant juice</th>\n",
       "      <th>frozen smoothie</th>\n",
       "      <th>spinach</th>\n",
       "      <th>olive oil</th>\n",
       "    </tr>\n",
       "  </thead>\n",
       "  <tbody>\n",
       "    <tr>\n",
       "      <th>0</th>\n",
       "      <td>burgers</td>\n",
       "      <td>meatballs</td>\n",
       "      <td>eggs</td>\n",
       "      <td>NaN</td>\n",
       "      <td>NaN</td>\n",
       "      <td>NaN</td>\n",
       "      <td>NaN</td>\n",
       "      <td>NaN</td>\n",
       "      <td>NaN</td>\n",
       "      <td>NaN</td>\n",
       "      <td>NaN</td>\n",
       "      <td>NaN</td>\n",
       "      <td>NaN</td>\n",
       "      <td>NaN</td>\n",
       "      <td>NaN</td>\n",
       "      <td>NaN</td>\n",
       "      <td>NaN</td>\n",
       "      <td>NaN</td>\n",
       "      <td>NaN</td>\n",
       "      <td>NaN</td>\n",
       "    </tr>\n",
       "    <tr>\n",
       "      <th>1</th>\n",
       "      <td>chutney</td>\n",
       "      <td>NaN</td>\n",
       "      <td>NaN</td>\n",
       "      <td>NaN</td>\n",
       "      <td>NaN</td>\n",
       "      <td>NaN</td>\n",
       "      <td>NaN</td>\n",
       "      <td>NaN</td>\n",
       "      <td>NaN</td>\n",
       "      <td>NaN</td>\n",
       "      <td>NaN</td>\n",
       "      <td>NaN</td>\n",
       "      <td>NaN</td>\n",
       "      <td>NaN</td>\n",
       "      <td>NaN</td>\n",
       "      <td>NaN</td>\n",
       "      <td>NaN</td>\n",
       "      <td>NaN</td>\n",
       "      <td>NaN</td>\n",
       "      <td>NaN</td>\n",
       "    </tr>\n",
       "    <tr>\n",
       "      <th>2</th>\n",
       "      <td>turkey</td>\n",
       "      <td>avocado</td>\n",
       "      <td>NaN</td>\n",
       "      <td>NaN</td>\n",
       "      <td>NaN</td>\n",
       "      <td>NaN</td>\n",
       "      <td>NaN</td>\n",
       "      <td>NaN</td>\n",
       "      <td>NaN</td>\n",
       "      <td>NaN</td>\n",
       "      <td>NaN</td>\n",
       "      <td>NaN</td>\n",
       "      <td>NaN</td>\n",
       "      <td>NaN</td>\n",
       "      <td>NaN</td>\n",
       "      <td>NaN</td>\n",
       "      <td>NaN</td>\n",
       "      <td>NaN</td>\n",
       "      <td>NaN</td>\n",
       "      <td>NaN</td>\n",
       "    </tr>\n",
       "    <tr>\n",
       "      <th>3</th>\n",
       "      <td>mineral water</td>\n",
       "      <td>milk</td>\n",
       "      <td>energy bar</td>\n",
       "      <td>whole wheat rice</td>\n",
       "      <td>green tea</td>\n",
       "      <td>NaN</td>\n",
       "      <td>NaN</td>\n",
       "      <td>NaN</td>\n",
       "      <td>NaN</td>\n",
       "      <td>NaN</td>\n",
       "      <td>NaN</td>\n",
       "      <td>NaN</td>\n",
       "      <td>NaN</td>\n",
       "      <td>NaN</td>\n",
       "      <td>NaN</td>\n",
       "      <td>NaN</td>\n",
       "      <td>NaN</td>\n",
       "      <td>NaN</td>\n",
       "      <td>NaN</td>\n",
       "      <td>NaN</td>\n",
       "    </tr>\n",
       "    <tr>\n",
       "      <th>4</th>\n",
       "      <td>low fat yogurt</td>\n",
       "      <td>NaN</td>\n",
       "      <td>NaN</td>\n",
       "      <td>NaN</td>\n",
       "      <td>NaN</td>\n",
       "      <td>NaN</td>\n",
       "      <td>NaN</td>\n",
       "      <td>NaN</td>\n",
       "      <td>NaN</td>\n",
       "      <td>NaN</td>\n",
       "      <td>NaN</td>\n",
       "      <td>NaN</td>\n",
       "      <td>NaN</td>\n",
       "      <td>NaN</td>\n",
       "      <td>NaN</td>\n",
       "      <td>NaN</td>\n",
       "      <td>NaN</td>\n",
       "      <td>NaN</td>\n",
       "      <td>NaN</td>\n",
       "      <td>NaN</td>\n",
       "    </tr>\n",
       "  </tbody>\n",
       "</table>\n",
       "</div>"
      ],
      "text/plain": [
       "           shrimp    almonds     avocado    vegetables mix green grapes  \\\n",
       "0         burgers  meatballs        eggs               NaN          NaN   \n",
       "1         chutney        NaN         NaN               NaN          NaN   \n",
       "2          turkey    avocado         NaN               NaN          NaN   \n",
       "3   mineral water       milk  energy bar  whole wheat rice    green tea   \n",
       "4  low fat yogurt        NaN         NaN               NaN          NaN   \n",
       "\n",
       "  whole weat flour yams cottage cheese energy drink tomato juice  \\\n",
       "0              NaN  NaN            NaN          NaN          NaN   \n",
       "1              NaN  NaN            NaN          NaN          NaN   \n",
       "2              NaN  NaN            NaN          NaN          NaN   \n",
       "3              NaN  NaN            NaN          NaN          NaN   \n",
       "4              NaN  NaN            NaN          NaN          NaN   \n",
       "\n",
       "  low fat yogurt green tea honey salad mineral water salmon antioxydant juice  \\\n",
       "0            NaN       NaN   NaN   NaN           NaN    NaN               NaN   \n",
       "1            NaN       NaN   NaN   NaN           NaN    NaN               NaN   \n",
       "2            NaN       NaN   NaN   NaN           NaN    NaN               NaN   \n",
       "3            NaN       NaN   NaN   NaN           NaN    NaN               NaN   \n",
       "4            NaN       NaN   NaN   NaN           NaN    NaN               NaN   \n",
       "\n",
       "  frozen smoothie spinach  olive oil  \n",
       "0             NaN     NaN        NaN  \n",
       "1             NaN     NaN        NaN  \n",
       "2             NaN     NaN        NaN  \n",
       "3             NaN     NaN        NaN  \n",
       "4             NaN     NaN        NaN  "
      ]
     },
     "execution_count": 9,
     "metadata": {},
     "output_type": "execute_result"
    }
   ],
   "source": [
    "# dataset\n",
    "dataset = pd.read_csv(\"/home/meghal/Personal/Personal Projects/Association Rules/Data/Market_Basket_Optimisation.csv\")\n",
    "\n",
    "# printing the shape of the dataset\n",
    "dataset.shape\n",
    "\n",
    "# printing the columns and few rows using head\n",
    "dataset.head()"
   ]
  },
  {
   "cell_type": "code",
   "execution_count": 10,
   "metadata": {},
   "outputs": [
    {
     "name": "stdout",
     "output_type": "stream",
     "text": [
      "['burgers' 'meatballs' 'eggs' ... 'nan' 'nan' 'nan']\n"
     ]
    }
   ],
   "source": [
    "# Gather All Items of Each Transactions into Numpy Array\n",
    "transaction = []\n",
    "for i in range(0, dataset.shape[0]):\n",
    "    for j in range(0, dataset.shape[1]):\n",
    "        transaction.append(dataset.values[i,j])\n",
    "\n",
    "# converting to numpy array\n",
    "transaction = np.array(transaction)\n",
    "print(transaction)"
   ]
  },
  {
   "cell_type": "code",
   "execution_count": 11,
   "metadata": {},
   "outputs": [
    {
     "data": {
      "text/html": [
       "<style type=\"text/css\">\n",
       "#T_08cd3_row0_col1 {\n",
       "  background-color: #08306b;\n",
       "  color: #f1f1f1;\n",
       "}\n",
       "#T_08cd3_row1_col1 {\n",
       "  background-color: #cde0f1;\n",
       "  color: #000000;\n",
       "}\n",
       "#T_08cd3_row2_col1 {\n",
       "  background-color: #dceaf6;\n",
       "  color: #000000;\n",
       "}\n",
       "#T_08cd3_row3_col1 {\n",
       "  background-color: #e5eff9;\n",
       "  color: #000000;\n",
       "}\n",
       "#T_08cd3_row4_col1 {\n",
       "  background-color: #f7fbff;\n",
       "  color: #000000;\n",
       "}\n",
       "</style>\n",
       "<table id=\"T_08cd3\">\n",
       "  <thead>\n",
       "    <tr>\n",
       "      <th class=\"blank level0\" >&nbsp;</th>\n",
       "      <th id=\"T_08cd3_level0_col0\" class=\"col_heading level0 col0\" >items</th>\n",
       "      <th id=\"T_08cd3_level0_col1\" class=\"col_heading level0 col1\" >incident_count</th>\n",
       "    </tr>\n",
       "  </thead>\n",
       "  <tbody>\n",
       "    <tr>\n",
       "      <th id=\"T_08cd3_level0_row0\" class=\"row_heading level0 row0\" >0</th>\n",
       "      <td id=\"T_08cd3_row0_col0\" class=\"data row0 col0\" >mineral water</td>\n",
       "      <td id=\"T_08cd3_row0_col1\" class=\"data row0 col1\" >1787</td>\n",
       "    </tr>\n",
       "    <tr>\n",
       "      <th id=\"T_08cd3_level0_row1\" class=\"row_heading level0 row1\" >1</th>\n",
       "      <td id=\"T_08cd3_row1_col0\" class=\"data row1 col0\" >eggs</td>\n",
       "      <td id=\"T_08cd3_row1_col1\" class=\"data row1 col1\" >1348</td>\n",
       "    </tr>\n",
       "    <tr>\n",
       "      <th id=\"T_08cd3_level0_row2\" class=\"row_heading level0 row2\" >2</th>\n",
       "      <td id=\"T_08cd3_row2_col0\" class=\"data row2 col0\" >spaghetti</td>\n",
       "      <td id=\"T_08cd3_row2_col1\" class=\"data row2 col1\" >1306</td>\n",
       "    </tr>\n",
       "    <tr>\n",
       "      <th id=\"T_08cd3_level0_row3\" class=\"row_heading level0 row3\" >3</th>\n",
       "      <td id=\"T_08cd3_row3_col0\" class=\"data row3 col0\" >french fries</td>\n",
       "      <td id=\"T_08cd3_row3_col1\" class=\"data row3 col1\" >1282</td>\n",
       "    </tr>\n",
       "    <tr>\n",
       "      <th id=\"T_08cd3_level0_row4\" class=\"row_heading level0 row4\" >4</th>\n",
       "      <td id=\"T_08cd3_row4_col0\" class=\"data row4 col0\" >chocolate</td>\n",
       "      <td id=\"T_08cd3_row4_col1\" class=\"data row4 col1\" >1230</td>\n",
       "    </tr>\n",
       "  </tbody>\n",
       "</table>\n"
      ],
      "text/plain": [
       "<pandas.io.formats.style.Styler at 0x7fb92e88b730>"
      ]
     },
     "execution_count": 11,
     "metadata": {},
     "output_type": "execute_result"
    }
   ],
   "source": [
    "#  Transform Them a Pandas DataFrame\n",
    "df = pd.DataFrame(transaction, columns=[\"items\"]) \n",
    "\n",
    "# Put 1 to Each Item For Making Countable Table, to be able to perform Group By\n",
    "df[\"incident_count\"] = 1 \n",
    "\n",
    "#  Delete NaN Items from Dataset\n",
    "indexNames = df[df['items'] == \"nan\" ].index\n",
    "df.drop(indexNames , inplace=True)\n",
    "\n",
    "# Making a New Appropriate Pandas DataFrame for Visualizations  \n",
    "df_table = df.groupby(\"items\").sum().sort_values(\"incident_count\", ascending=False).reset_index()\n",
    "\n",
    "#  Initial Visualizations\n",
    "df_table.head(5).style.background_gradient(cmap='Blues')"
   ]
  },
  {
   "cell_type": "code",
   "execution_count": 12,
   "metadata": {},
   "outputs": [
    {
     "data": {
      "application/vnd.plotly.v1+json": {
       "config": {
        "plotlyServerURL": "https://plot.ly"
       },
       "data": [
        {
         "branchvalues": "total",
         "customdata": [
          [
           "avocado",
           249
          ],
          [
           "brownies",
           253
          ],
          [
           "burgers",
           654
          ],
          [
           "butter",
           226
          ],
          [
           "cake",
           608
          ],
          [
           "cereals",
           193
          ],
          [
           "champagne",
           351
          ],
          [
           "chicken",
           450
          ],
          [
           "chocolate",
           1230
          ],
          [
           "cookies",
           603
          ],
          [
           "cooking oil",
           383
          ],
          [
           "cottage cheese",
           238
          ],
          [
           "eggs",
           1348
          ],
          [
           "energy bar",
           203
          ],
          [
           "energy drink",
           199
          ],
          [
           "escalope",
           595
          ],
          [
           "french fries",
           1282
          ],
          [
           "french wine",
           169
          ],
          [
           "fresh bread",
           323
          ],
          [
           "fresh tuna",
           167
          ],
          [
           "frozen smoothie",
           474
          ],
          [
           "frozen vegetables",
           715
          ],
          [
           "grated cheese",
           393
          ],
          [
           "green tea",
           990
          ],
          [
           "ground beef",
           737
          ],
          [
           "ham",
           203
          ],
          [
           "herb & pepper",
           371
          ],
          [
           "honey",
           355
          ],
          [
           "hot dogs",
           243
          ],
          [
           "light mayo",
           204
          ],
          [
           "low fat yogurt",
           573
          ],
          [
           "milk",
           972
          ],
          [
           "mineral water",
           1787
          ],
          [
           "muffins",
           181
          ],
          [
           "oil",
           173
          ],
          [
           "olive oil",
           493
          ],
          [
           "pancakes",
           713
          ],
          [
           "pepper",
           199
          ],
          [
           "red wine",
           211
          ],
          [
           "salmon",
           318
          ],
          [
           "shrimp",
           535
          ],
          [
           "soup",
           379
          ],
          [
           "spaghetti",
           1306
          ],
          [
           "tomato juice",
           227
          ],
          [
           "tomatoes",
           513
          ],
          [
           "turkey",
           469
          ],
          [
           "vegetables mix",
           192
          ],
          [
           "whole wheat pasta",
           221
          ],
          [
           "whole wheat rice",
           439
          ],
          [
           "yogurt cake",
           205
          ],
          [
           "(?)",
           764.8014276973282
          ]
         ],
         "domain": {
          "x": [
           0,
           1
          ],
          "y": [
           0,
           1
          ]
         },
         "hovertemplate": "labels=%{label}<br>incident_count=%{value}<br>parent=%{parent}<br>id=%{id}<br>items=%{customdata[0]}<br>color=%{color}<extra></extra>",
         "ids": [
          "Top 50 items/avocado",
          "Top 50 items/brownies",
          "Top 50 items/burgers",
          "Top 50 items/butter",
          "Top 50 items/cake",
          "Top 50 items/cereals",
          "Top 50 items/champagne",
          "Top 50 items/chicken",
          "Top 50 items/chocolate",
          "Top 50 items/cookies",
          "Top 50 items/cooking oil",
          "Top 50 items/cottage cheese",
          "Top 50 items/eggs",
          "Top 50 items/energy bar",
          "Top 50 items/energy drink",
          "Top 50 items/escalope",
          "Top 50 items/french fries",
          "Top 50 items/french wine",
          "Top 50 items/fresh bread",
          "Top 50 items/fresh tuna",
          "Top 50 items/frozen smoothie",
          "Top 50 items/frozen vegetables",
          "Top 50 items/grated cheese",
          "Top 50 items/green tea",
          "Top 50 items/ground beef",
          "Top 50 items/ham",
          "Top 50 items/herb & pepper",
          "Top 50 items/honey",
          "Top 50 items/hot dogs",
          "Top 50 items/light mayo",
          "Top 50 items/low fat yogurt",
          "Top 50 items/milk",
          "Top 50 items/mineral water",
          "Top 50 items/muffins",
          "Top 50 items/oil",
          "Top 50 items/olive oil",
          "Top 50 items/pancakes",
          "Top 50 items/pepper",
          "Top 50 items/red wine",
          "Top 50 items/salmon",
          "Top 50 items/shrimp",
          "Top 50 items/soup",
          "Top 50 items/spaghetti",
          "Top 50 items/tomato juice",
          "Top 50 items/tomatoes",
          "Top 50 items/turkey",
          "Top 50 items/vegetables mix",
          "Top 50 items/whole wheat pasta",
          "Top 50 items/whole wheat rice",
          "Top 50 items/yogurt cake",
          "Top 50 items"
         ],
         "labels": [
          "avocado",
          "brownies",
          "burgers",
          "butter",
          "cake",
          "cereals",
          "champagne",
          "chicken",
          "chocolate",
          "cookies",
          "cooking oil",
          "cottage cheese",
          "eggs",
          "energy bar",
          "energy drink",
          "escalope",
          "french fries",
          "french wine",
          "fresh bread",
          "fresh tuna",
          "frozen smoothie",
          "frozen vegetables",
          "grated cheese",
          "green tea",
          "ground beef",
          "ham",
          "herb & pepper",
          "honey",
          "hot dogs",
          "light mayo",
          "low fat yogurt",
          "milk",
          "mineral water",
          "muffins",
          "oil",
          "olive oil",
          "pancakes",
          "pepper",
          "red wine",
          "salmon",
          "shrimp",
          "soup",
          "spaghetti",
          "tomato juice",
          "tomatoes",
          "turkey",
          "vegetables mix",
          "whole wheat pasta",
          "whole wheat rice",
          "yogurt cake",
          "Top 50 items"
         ],
         "marker": {
          "coloraxis": "coloraxis",
          "colors": [
           249,
           253,
           654,
           226,
           608,
           193,
           351,
           450,
           1230,
           603,
           383,
           238,
           1348,
           203,
           199,
           595,
           1282,
           169,
           323,
           167,
           474,
           715,
           393,
           990,
           737,
           203,
           371,
           355,
           243,
           204,
           573,
           972,
           1787,
           181,
           173,
           493,
           713,
           199,
           211,
           318,
           535,
           379,
           1306,
           227,
           513,
           469,
           192,
           221,
           439,
           205,
           764.8014276973282
          ]
         },
         "name": "",
         "parents": [
          "Top 50 items",
          "Top 50 items",
          "Top 50 items",
          "Top 50 items",
          "Top 50 items",
          "Top 50 items",
          "Top 50 items",
          "Top 50 items",
          "Top 50 items",
          "Top 50 items",
          "Top 50 items",
          "Top 50 items",
          "Top 50 items",
          "Top 50 items",
          "Top 50 items",
          "Top 50 items",
          "Top 50 items",
          "Top 50 items",
          "Top 50 items",
          "Top 50 items",
          "Top 50 items",
          "Top 50 items",
          "Top 50 items",
          "Top 50 items",
          "Top 50 items",
          "Top 50 items",
          "Top 50 items",
          "Top 50 items",
          "Top 50 items",
          "Top 50 items",
          "Top 50 items",
          "Top 50 items",
          "Top 50 items",
          "Top 50 items",
          "Top 50 items",
          "Top 50 items",
          "Top 50 items",
          "Top 50 items",
          "Top 50 items",
          "Top 50 items",
          "Top 50 items",
          "Top 50 items",
          "Top 50 items",
          "Top 50 items",
          "Top 50 items",
          "Top 50 items",
          "Top 50 items",
          "Top 50 items",
          "Top 50 items",
          "Top 50 items",
          ""
         ],
         "type": "treemap",
         "values": [
          249,
          253,
          654,
          226,
          608,
          193,
          351,
          450,
          1230,
          603,
          383,
          238,
          1348,
          203,
          199,
          595,
          1282,
          169,
          323,
          167,
          474,
          715,
          393,
          990,
          737,
          203,
          371,
          355,
          243,
          204,
          573,
          972,
          1787,
          181,
          173,
          493,
          713,
          199,
          211,
          318,
          535,
          379,
          1306,
          227,
          513,
          469,
          192,
          221,
          439,
          205,
          24515
         ]
        }
       ],
       "layout": {
        "coloraxis": {
         "colorbar": {
          "title": {
           "text": "color"
          }
         },
         "colorscale": [
          [
           0,
           "rgb(247,251,255)"
          ],
          [
           0.125,
           "rgb(222,235,247)"
          ],
          [
           0.25,
           "rgb(198,219,239)"
          ],
          [
           0.375,
           "rgb(158,202,225)"
          ],
          [
           0.5,
           "rgb(107,174,214)"
          ],
          [
           0.625,
           "rgb(66,146,198)"
          ],
          [
           0.75,
           "rgb(33,113,181)"
          ],
          [
           0.875,
           "rgb(8,81,156)"
          ],
          [
           1,
           "rgb(8,48,107)"
          ]
         ]
        },
        "legend": {
         "tracegroupgap": 0
        },
        "margin": {
         "t": 60
        },
        "template": {
         "data": {
          "bar": [
           {
            "error_x": {
             "color": "#2a3f5f"
            },
            "error_y": {
             "color": "#2a3f5f"
            },
            "marker": {
             "line": {
              "color": "#E5ECF6",
              "width": 0.5
             },
             "pattern": {
              "fillmode": "overlay",
              "size": 10,
              "solidity": 0.2
             }
            },
            "type": "bar"
           }
          ],
          "barpolar": [
           {
            "marker": {
             "line": {
              "color": "#E5ECF6",
              "width": 0.5
             },
             "pattern": {
              "fillmode": "overlay",
              "size": 10,
              "solidity": 0.2
             }
            },
            "type": "barpolar"
           }
          ],
          "carpet": [
           {
            "aaxis": {
             "endlinecolor": "#2a3f5f",
             "gridcolor": "white",
             "linecolor": "white",
             "minorgridcolor": "white",
             "startlinecolor": "#2a3f5f"
            },
            "baxis": {
             "endlinecolor": "#2a3f5f",
             "gridcolor": "white",
             "linecolor": "white",
             "minorgridcolor": "white",
             "startlinecolor": "#2a3f5f"
            },
            "type": "carpet"
           }
          ],
          "choropleth": [
           {
            "colorbar": {
             "outlinewidth": 0,
             "ticks": ""
            },
            "type": "choropleth"
           }
          ],
          "contour": [
           {
            "colorbar": {
             "outlinewidth": 0,
             "ticks": ""
            },
            "colorscale": [
             [
              0,
              "#0d0887"
             ],
             [
              0.1111111111111111,
              "#46039f"
             ],
             [
              0.2222222222222222,
              "#7201a8"
             ],
             [
              0.3333333333333333,
              "#9c179e"
             ],
             [
              0.4444444444444444,
              "#bd3786"
             ],
             [
              0.5555555555555556,
              "#d8576b"
             ],
             [
              0.6666666666666666,
              "#ed7953"
             ],
             [
              0.7777777777777778,
              "#fb9f3a"
             ],
             [
              0.8888888888888888,
              "#fdca26"
             ],
             [
              1,
              "#f0f921"
             ]
            ],
            "type": "contour"
           }
          ],
          "contourcarpet": [
           {
            "colorbar": {
             "outlinewidth": 0,
             "ticks": ""
            },
            "type": "contourcarpet"
           }
          ],
          "heatmap": [
           {
            "colorbar": {
             "outlinewidth": 0,
             "ticks": ""
            },
            "colorscale": [
             [
              0,
              "#0d0887"
             ],
             [
              0.1111111111111111,
              "#46039f"
             ],
             [
              0.2222222222222222,
              "#7201a8"
             ],
             [
              0.3333333333333333,
              "#9c179e"
             ],
             [
              0.4444444444444444,
              "#bd3786"
             ],
             [
              0.5555555555555556,
              "#d8576b"
             ],
             [
              0.6666666666666666,
              "#ed7953"
             ],
             [
              0.7777777777777778,
              "#fb9f3a"
             ],
             [
              0.8888888888888888,
              "#fdca26"
             ],
             [
              1,
              "#f0f921"
             ]
            ],
            "type": "heatmap"
           }
          ],
          "heatmapgl": [
           {
            "colorbar": {
             "outlinewidth": 0,
             "ticks": ""
            },
            "colorscale": [
             [
              0,
              "#0d0887"
             ],
             [
              0.1111111111111111,
              "#46039f"
             ],
             [
              0.2222222222222222,
              "#7201a8"
             ],
             [
              0.3333333333333333,
              "#9c179e"
             ],
             [
              0.4444444444444444,
              "#bd3786"
             ],
             [
              0.5555555555555556,
              "#d8576b"
             ],
             [
              0.6666666666666666,
              "#ed7953"
             ],
             [
              0.7777777777777778,
              "#fb9f3a"
             ],
             [
              0.8888888888888888,
              "#fdca26"
             ],
             [
              1,
              "#f0f921"
             ]
            ],
            "type": "heatmapgl"
           }
          ],
          "histogram": [
           {
            "marker": {
             "pattern": {
              "fillmode": "overlay",
              "size": 10,
              "solidity": 0.2
             }
            },
            "type": "histogram"
           }
          ],
          "histogram2d": [
           {
            "colorbar": {
             "outlinewidth": 0,
             "ticks": ""
            },
            "colorscale": [
             [
              0,
              "#0d0887"
             ],
             [
              0.1111111111111111,
              "#46039f"
             ],
             [
              0.2222222222222222,
              "#7201a8"
             ],
             [
              0.3333333333333333,
              "#9c179e"
             ],
             [
              0.4444444444444444,
              "#bd3786"
             ],
             [
              0.5555555555555556,
              "#d8576b"
             ],
             [
              0.6666666666666666,
              "#ed7953"
             ],
             [
              0.7777777777777778,
              "#fb9f3a"
             ],
             [
              0.8888888888888888,
              "#fdca26"
             ],
             [
              1,
              "#f0f921"
             ]
            ],
            "type": "histogram2d"
           }
          ],
          "histogram2dcontour": [
           {
            "colorbar": {
             "outlinewidth": 0,
             "ticks": ""
            },
            "colorscale": [
             [
              0,
              "#0d0887"
             ],
             [
              0.1111111111111111,
              "#46039f"
             ],
             [
              0.2222222222222222,
              "#7201a8"
             ],
             [
              0.3333333333333333,
              "#9c179e"
             ],
             [
              0.4444444444444444,
              "#bd3786"
             ],
             [
              0.5555555555555556,
              "#d8576b"
             ],
             [
              0.6666666666666666,
              "#ed7953"
             ],
             [
              0.7777777777777778,
              "#fb9f3a"
             ],
             [
              0.8888888888888888,
              "#fdca26"
             ],
             [
              1,
              "#f0f921"
             ]
            ],
            "type": "histogram2dcontour"
           }
          ],
          "mesh3d": [
           {
            "colorbar": {
             "outlinewidth": 0,
             "ticks": ""
            },
            "type": "mesh3d"
           }
          ],
          "parcoords": [
           {
            "line": {
             "colorbar": {
              "outlinewidth": 0,
              "ticks": ""
             }
            },
            "type": "parcoords"
           }
          ],
          "pie": [
           {
            "automargin": true,
            "type": "pie"
           }
          ],
          "scatter": [
           {
            "fillpattern": {
             "fillmode": "overlay",
             "size": 10,
             "solidity": 0.2
            },
            "type": "scatter"
           }
          ],
          "scatter3d": [
           {
            "line": {
             "colorbar": {
              "outlinewidth": 0,
              "ticks": ""
             }
            },
            "marker": {
             "colorbar": {
              "outlinewidth": 0,
              "ticks": ""
             }
            },
            "type": "scatter3d"
           }
          ],
          "scattercarpet": [
           {
            "marker": {
             "colorbar": {
              "outlinewidth": 0,
              "ticks": ""
             }
            },
            "type": "scattercarpet"
           }
          ],
          "scattergeo": [
           {
            "marker": {
             "colorbar": {
              "outlinewidth": 0,
              "ticks": ""
             }
            },
            "type": "scattergeo"
           }
          ],
          "scattergl": [
           {
            "marker": {
             "colorbar": {
              "outlinewidth": 0,
              "ticks": ""
             }
            },
            "type": "scattergl"
           }
          ],
          "scattermapbox": [
           {
            "marker": {
             "colorbar": {
              "outlinewidth": 0,
              "ticks": ""
             }
            },
            "type": "scattermapbox"
           }
          ],
          "scatterpolar": [
           {
            "marker": {
             "colorbar": {
              "outlinewidth": 0,
              "ticks": ""
             }
            },
            "type": "scatterpolar"
           }
          ],
          "scatterpolargl": [
           {
            "marker": {
             "colorbar": {
              "outlinewidth": 0,
              "ticks": ""
             }
            },
            "type": "scatterpolargl"
           }
          ],
          "scatterternary": [
           {
            "marker": {
             "colorbar": {
              "outlinewidth": 0,
              "ticks": ""
             }
            },
            "type": "scatterternary"
           }
          ],
          "surface": [
           {
            "colorbar": {
             "outlinewidth": 0,
             "ticks": ""
            },
            "colorscale": [
             [
              0,
              "#0d0887"
             ],
             [
              0.1111111111111111,
              "#46039f"
             ],
             [
              0.2222222222222222,
              "#7201a8"
             ],
             [
              0.3333333333333333,
              "#9c179e"
             ],
             [
              0.4444444444444444,
              "#bd3786"
             ],
             [
              0.5555555555555556,
              "#d8576b"
             ],
             [
              0.6666666666666666,
              "#ed7953"
             ],
             [
              0.7777777777777778,
              "#fb9f3a"
             ],
             [
              0.8888888888888888,
              "#fdca26"
             ],
             [
              1,
              "#f0f921"
             ]
            ],
            "type": "surface"
           }
          ],
          "table": [
           {
            "cells": {
             "fill": {
              "color": "#EBF0F8"
             },
             "line": {
              "color": "white"
             }
            },
            "header": {
             "fill": {
              "color": "#C8D4E3"
             },
             "line": {
              "color": "white"
             }
            },
            "type": "table"
           }
          ]
         },
         "layout": {
          "annotationdefaults": {
           "arrowcolor": "#2a3f5f",
           "arrowhead": 0,
           "arrowwidth": 1
          },
          "autotypenumbers": "strict",
          "coloraxis": {
           "colorbar": {
            "outlinewidth": 0,
            "ticks": ""
           }
          },
          "colorscale": {
           "diverging": [
            [
             0,
             "#8e0152"
            ],
            [
             0.1,
             "#c51b7d"
            ],
            [
             0.2,
             "#de77ae"
            ],
            [
             0.3,
             "#f1b6da"
            ],
            [
             0.4,
             "#fde0ef"
            ],
            [
             0.5,
             "#f7f7f7"
            ],
            [
             0.6,
             "#e6f5d0"
            ],
            [
             0.7,
             "#b8e186"
            ],
            [
             0.8,
             "#7fbc41"
            ],
            [
             0.9,
             "#4d9221"
            ],
            [
             1,
             "#276419"
            ]
           ],
           "sequential": [
            [
             0,
             "#0d0887"
            ],
            [
             0.1111111111111111,
             "#46039f"
            ],
            [
             0.2222222222222222,
             "#7201a8"
            ],
            [
             0.3333333333333333,
             "#9c179e"
            ],
            [
             0.4444444444444444,
             "#bd3786"
            ],
            [
             0.5555555555555556,
             "#d8576b"
            ],
            [
             0.6666666666666666,
             "#ed7953"
            ],
            [
             0.7777777777777778,
             "#fb9f3a"
            ],
            [
             0.8888888888888888,
             "#fdca26"
            ],
            [
             1,
             "#f0f921"
            ]
           ],
           "sequentialminus": [
            [
             0,
             "#0d0887"
            ],
            [
             0.1111111111111111,
             "#46039f"
            ],
            [
             0.2222222222222222,
             "#7201a8"
            ],
            [
             0.3333333333333333,
             "#9c179e"
            ],
            [
             0.4444444444444444,
             "#bd3786"
            ],
            [
             0.5555555555555556,
             "#d8576b"
            ],
            [
             0.6666666666666666,
             "#ed7953"
            ],
            [
             0.7777777777777778,
             "#fb9f3a"
            ],
            [
             0.8888888888888888,
             "#fdca26"
            ],
            [
             1,
             "#f0f921"
            ]
           ]
          },
          "colorway": [
           "#636efa",
           "#EF553B",
           "#00cc96",
           "#ab63fa",
           "#FFA15A",
           "#19d3f3",
           "#FF6692",
           "#B6E880",
           "#FF97FF",
           "#FECB52"
          ],
          "font": {
           "color": "#2a3f5f"
          },
          "geo": {
           "bgcolor": "white",
           "lakecolor": "white",
           "landcolor": "#E5ECF6",
           "showlakes": true,
           "showland": true,
           "subunitcolor": "white"
          },
          "hoverlabel": {
           "align": "left"
          },
          "hovermode": "closest",
          "mapbox": {
           "style": "light"
          },
          "paper_bgcolor": "white",
          "plot_bgcolor": "#E5ECF6",
          "polar": {
           "angularaxis": {
            "gridcolor": "white",
            "linecolor": "white",
            "ticks": ""
           },
           "bgcolor": "#E5ECF6",
           "radialaxis": {
            "gridcolor": "white",
            "linecolor": "white",
            "ticks": ""
           }
          },
          "scene": {
           "xaxis": {
            "backgroundcolor": "#E5ECF6",
            "gridcolor": "white",
            "gridwidth": 2,
            "linecolor": "white",
            "showbackground": true,
            "ticks": "",
            "zerolinecolor": "white"
           },
           "yaxis": {
            "backgroundcolor": "#E5ECF6",
            "gridcolor": "white",
            "gridwidth": 2,
            "linecolor": "white",
            "showbackground": true,
            "ticks": "",
            "zerolinecolor": "white"
           },
           "zaxis": {
            "backgroundcolor": "#E5ECF6",
            "gridcolor": "white",
            "gridwidth": 2,
            "linecolor": "white",
            "showbackground": true,
            "ticks": "",
            "zerolinecolor": "white"
           }
          },
          "shapedefaults": {
           "line": {
            "color": "#2a3f5f"
           }
          },
          "ternary": {
           "aaxis": {
            "gridcolor": "white",
            "linecolor": "white",
            "ticks": ""
           },
           "baxis": {
            "gridcolor": "white",
            "linecolor": "white",
            "ticks": ""
           },
           "bgcolor": "#E5ECF6",
           "caxis": {
            "gridcolor": "white",
            "linecolor": "white",
            "ticks": ""
           }
          },
          "title": {
           "x": 0.05
          },
          "xaxis": {
           "automargin": true,
           "gridcolor": "white",
           "linecolor": "white",
           "ticks": "",
           "title": {
            "standoff": 15
           },
           "zerolinecolor": "white",
           "zerolinewidth": 2
          },
          "yaxis": {
           "automargin": true,
           "gridcolor": "white",
           "linecolor": "white",
           "ticks": "",
           "title": {
            "standoff": 15
           },
           "zerolinecolor": "white",
           "zerolinewidth": 2
          }
         }
        }
       }
      }
     },
     "metadata": {},
     "output_type": "display_data"
    }
   ],
   "source": [
    "# to have a same origin\n",
    "df_table[\"all\"] = \"Top 50 items\" \n",
    "\n",
    "# creating tree map using plotly\n",
    "fig = px.treemap(df_table.head(50), path=['all', \"items\"], values='incident_count',\n",
    "                  color=df_table[\"incident_count\"].head(50), hover_data=['items'],\n",
    "                  color_continuous_scale='Blues',\n",
    "                )\n",
    "# ploting the treemap\n",
    "fig.show()"
   ]
  },
  {
   "cell_type": "code",
   "execution_count": 13,
   "metadata": {},
   "outputs": [
    {
     "data": {
      "text/html": [
       "<div>\n",
       "<style scoped>\n",
       "    .dataframe tbody tr th:only-of-type {\n",
       "        vertical-align: middle;\n",
       "    }\n",
       "\n",
       "    .dataframe tbody tr th {\n",
       "        vertical-align: top;\n",
       "    }\n",
       "\n",
       "    .dataframe thead th {\n",
       "        text-align: right;\n",
       "    }\n",
       "</style>\n",
       "<table border=\"1\" class=\"dataframe\">\n",
       "  <thead>\n",
       "    <tr style=\"text-align: right;\">\n",
       "      <th></th>\n",
       "      <th>asparagus</th>\n",
       "      <th>almonds</th>\n",
       "      <th>antioxydant juice</th>\n",
       "      <th>asparagus</th>\n",
       "      <th>avocado</th>\n",
       "      <th>babies food</th>\n",
       "      <th>bacon</th>\n",
       "      <th>barbecue sauce</th>\n",
       "      <th>black tea</th>\n",
       "      <th>blueberries</th>\n",
       "      <th>...</th>\n",
       "      <th>turkey</th>\n",
       "      <th>vegetables mix</th>\n",
       "      <th>water spray</th>\n",
       "      <th>white wine</th>\n",
       "      <th>whole weat flour</th>\n",
       "      <th>whole wheat pasta</th>\n",
       "      <th>whole wheat rice</th>\n",
       "      <th>yams</th>\n",
       "      <th>yogurt cake</th>\n",
       "      <th>zucchini</th>\n",
       "    </tr>\n",
       "  </thead>\n",
       "  <tbody>\n",
       "    <tr>\n",
       "      <th>0</th>\n",
       "      <td>False</td>\n",
       "      <td>False</td>\n",
       "      <td>False</td>\n",
       "      <td>False</td>\n",
       "      <td>False</td>\n",
       "      <td>False</td>\n",
       "      <td>False</td>\n",
       "      <td>False</td>\n",
       "      <td>False</td>\n",
       "      <td>False</td>\n",
       "      <td>...</td>\n",
       "      <td>False</td>\n",
       "      <td>False</td>\n",
       "      <td>False</td>\n",
       "      <td>False</td>\n",
       "      <td>False</td>\n",
       "      <td>False</td>\n",
       "      <td>False</td>\n",
       "      <td>False</td>\n",
       "      <td>False</td>\n",
       "      <td>False</td>\n",
       "    </tr>\n",
       "    <tr>\n",
       "      <th>1</th>\n",
       "      <td>False</td>\n",
       "      <td>False</td>\n",
       "      <td>False</td>\n",
       "      <td>False</td>\n",
       "      <td>False</td>\n",
       "      <td>False</td>\n",
       "      <td>False</td>\n",
       "      <td>False</td>\n",
       "      <td>False</td>\n",
       "      <td>False</td>\n",
       "      <td>...</td>\n",
       "      <td>False</td>\n",
       "      <td>False</td>\n",
       "      <td>False</td>\n",
       "      <td>False</td>\n",
       "      <td>False</td>\n",
       "      <td>False</td>\n",
       "      <td>False</td>\n",
       "      <td>False</td>\n",
       "      <td>False</td>\n",
       "      <td>False</td>\n",
       "    </tr>\n",
       "    <tr>\n",
       "      <th>2</th>\n",
       "      <td>False</td>\n",
       "      <td>False</td>\n",
       "      <td>False</td>\n",
       "      <td>False</td>\n",
       "      <td>True</td>\n",
       "      <td>False</td>\n",
       "      <td>False</td>\n",
       "      <td>False</td>\n",
       "      <td>False</td>\n",
       "      <td>False</td>\n",
       "      <td>...</td>\n",
       "      <td>True</td>\n",
       "      <td>False</td>\n",
       "      <td>False</td>\n",
       "      <td>False</td>\n",
       "      <td>False</td>\n",
       "      <td>False</td>\n",
       "      <td>False</td>\n",
       "      <td>False</td>\n",
       "      <td>False</td>\n",
       "      <td>False</td>\n",
       "    </tr>\n",
       "    <tr>\n",
       "      <th>3</th>\n",
       "      <td>False</td>\n",
       "      <td>False</td>\n",
       "      <td>False</td>\n",
       "      <td>False</td>\n",
       "      <td>False</td>\n",
       "      <td>False</td>\n",
       "      <td>False</td>\n",
       "      <td>False</td>\n",
       "      <td>False</td>\n",
       "      <td>False</td>\n",
       "      <td>...</td>\n",
       "      <td>False</td>\n",
       "      <td>False</td>\n",
       "      <td>False</td>\n",
       "      <td>False</td>\n",
       "      <td>False</td>\n",
       "      <td>False</td>\n",
       "      <td>True</td>\n",
       "      <td>False</td>\n",
       "      <td>False</td>\n",
       "      <td>False</td>\n",
       "    </tr>\n",
       "    <tr>\n",
       "      <th>4</th>\n",
       "      <td>False</td>\n",
       "      <td>False</td>\n",
       "      <td>False</td>\n",
       "      <td>False</td>\n",
       "      <td>False</td>\n",
       "      <td>False</td>\n",
       "      <td>False</td>\n",
       "      <td>False</td>\n",
       "      <td>False</td>\n",
       "      <td>False</td>\n",
       "      <td>...</td>\n",
       "      <td>False</td>\n",
       "      <td>False</td>\n",
       "      <td>False</td>\n",
       "      <td>False</td>\n",
       "      <td>False</td>\n",
       "      <td>False</td>\n",
       "      <td>False</td>\n",
       "      <td>False</td>\n",
       "      <td>False</td>\n",
       "      <td>False</td>\n",
       "    </tr>\n",
       "  </tbody>\n",
       "</table>\n",
       "<p>5 rows × 121 columns</p>\n",
       "</div>"
      ],
      "text/plain": [
       "    asparagus  almonds  antioxydant juice  asparagus  avocado  babies food  \\\n",
       "0       False    False              False      False    False        False   \n",
       "1       False    False              False      False    False        False   \n",
       "2       False    False              False      False     True        False   \n",
       "3       False    False              False      False    False        False   \n",
       "4       False    False              False      False    False        False   \n",
       "\n",
       "   bacon  barbecue sauce  black tea  blueberries  ...  turkey  vegetables mix  \\\n",
       "0  False           False      False        False  ...   False           False   \n",
       "1  False           False      False        False  ...   False           False   \n",
       "2  False           False      False        False  ...    True           False   \n",
       "3  False           False      False        False  ...   False           False   \n",
       "4  False           False      False        False  ...   False           False   \n",
       "\n",
       "   water spray  white wine  whole weat flour  whole wheat pasta  \\\n",
       "0        False       False             False              False   \n",
       "1        False       False             False              False   \n",
       "2        False       False             False              False   \n",
       "3        False       False             False              False   \n",
       "4        False       False             False              False   \n",
       "\n",
       "   whole wheat rice   yams  yogurt cake  zucchini  \n",
       "0             False  False        False     False  \n",
       "1             False  False        False     False  \n",
       "2             False  False        False     False  \n",
       "3              True  False        False     False  \n",
       "4             False  False        False     False  \n",
       "\n",
       "[5 rows x 121 columns]"
      ]
     },
     "execution_count": 13,
     "metadata": {},
     "output_type": "execute_result"
    }
   ],
   "source": [
    "# Transform Every Transaction to Seperate List & Gather Them into Numpy Array\n",
    "transaction = []\n",
    "for i in range(dataset.shape[0]):\n",
    "    transaction.append([str(dataset.values[i,j]) for j in range(dataset.shape[1])])\n",
    "\n",
    "# creating the numpy array of the transactions\n",
    "transaction = np.array(transaction)\n",
    "\n",
    "# importing the required module\n",
    "from mlxtend.preprocessing import TransactionEncoder\n",
    "\n",
    "# initializing the transactionEncoder\n",
    "te = TransactionEncoder()\n",
    "te_ary = te.fit(transaction).transform(transaction)\n",
    "dataset = pd.DataFrame(te_ary, columns=te.columns_)\n",
    "\n",
    "# dataset after encoded\n",
    "dataset.head()"
   ]
  },
  {
   "cell_type": "code",
   "execution_count": 14,
   "metadata": {},
   "outputs": [
    {
     "data": {
      "text/plain": [
       "(7500, 30)"
      ]
     },
     "execution_count": 14,
     "metadata": {},
     "output_type": "execute_result"
    }
   ],
   "source": [
    "# select top 30 items\n",
    "first30 = df_table[\"items\"].head(30).values \n",
    "\n",
    "# Extract Top 30\n",
    "dataset = dataset.loc[:,first30] \n",
    "\n",
    "# shape of the dataset\n",
    "dataset.shape"
   ]
  },
  {
   "cell_type": "code",
   "execution_count": 15,
   "metadata": {},
   "outputs": [
    {
     "data": {
      "text/html": [
       "<div>\n",
       "<style scoped>\n",
       "    .dataframe tbody tr th:only-of-type {\n",
       "        vertical-align: middle;\n",
       "    }\n",
       "\n",
       "    .dataframe tbody tr th {\n",
       "        vertical-align: top;\n",
       "    }\n",
       "\n",
       "    .dataframe thead th {\n",
       "        text-align: right;\n",
       "    }\n",
       "</style>\n",
       "<table border=\"1\" class=\"dataframe\">\n",
       "  <thead>\n",
       "    <tr style=\"text-align: right;\">\n",
       "      <th></th>\n",
       "      <th>support</th>\n",
       "      <th>itemsets</th>\n",
       "    </tr>\n",
       "  </thead>\n",
       "  <tbody>\n",
       "    <tr>\n",
       "      <th>0</th>\n",
       "      <td>0.179733</td>\n",
       "      <td>(eggs)</td>\n",
       "    </tr>\n",
       "    <tr>\n",
       "      <th>1</th>\n",
       "      <td>0.087200</td>\n",
       "      <td>(burgers)</td>\n",
       "    </tr>\n",
       "    <tr>\n",
       "      <th>2</th>\n",
       "      <td>0.062533</td>\n",
       "      <td>(turkey)</td>\n",
       "    </tr>\n",
       "    <tr>\n",
       "      <th>3</th>\n",
       "      <td>0.238267</td>\n",
       "      <td>(mineral water)</td>\n",
       "    </tr>\n",
       "    <tr>\n",
       "      <th>4</th>\n",
       "      <td>0.132000</td>\n",
       "      <td>(green tea)</td>\n",
       "    </tr>\n",
       "    <tr>\n",
       "      <th>5</th>\n",
       "      <td>0.129600</td>\n",
       "      <td>(milk)</td>\n",
       "    </tr>\n",
       "    <tr>\n",
       "      <th>6</th>\n",
       "      <td>0.058533</td>\n",
       "      <td>(whole wheat rice)</td>\n",
       "    </tr>\n",
       "    <tr>\n",
       "      <th>7</th>\n",
       "      <td>0.076400</td>\n",
       "      <td>(low fat yogurt)</td>\n",
       "    </tr>\n",
       "    <tr>\n",
       "      <th>8</th>\n",
       "      <td>0.170933</td>\n",
       "      <td>(french fries)</td>\n",
       "    </tr>\n",
       "    <tr>\n",
       "      <th>9</th>\n",
       "      <td>0.050533</td>\n",
       "      <td>(soup)</td>\n",
       "    </tr>\n",
       "  </tbody>\n",
       "</table>\n",
       "</div>"
      ],
      "text/plain": [
       "    support            itemsets\n",
       "0  0.179733              (eggs)\n",
       "1  0.087200           (burgers)\n",
       "2  0.062533            (turkey)\n",
       "3  0.238267     (mineral water)\n",
       "4  0.132000         (green tea)\n",
       "5  0.129600              (milk)\n",
       "6  0.058533  (whole wheat rice)\n",
       "7  0.076400    (low fat yogurt)\n",
       "8  0.170933      (french fries)\n",
       "9  0.050533              (soup)"
      ]
     },
     "execution_count": 15,
     "metadata": {},
     "output_type": "execute_result"
    }
   ],
   "source": [
    "#running the fpgrowth algorithm\n",
    "res = fpgrowth(dataset,min_support=0.05, use_colnames=True)\n",
    "\n",
    "# printing top 10\n",
    "res.head(10)"
   ]
  },
  {
   "cell_type": "code",
   "execution_count": 16,
   "metadata": {},
   "outputs": [
    {
     "data": {
      "text/html": [
       "<div>\n",
       "<style scoped>\n",
       "    .dataframe tbody tr th:only-of-type {\n",
       "        vertical-align: middle;\n",
       "    }\n",
       "\n",
       "    .dataframe tbody tr th {\n",
       "        vertical-align: top;\n",
       "    }\n",
       "\n",
       "    .dataframe thead th {\n",
       "        text-align: right;\n",
       "    }\n",
       "</style>\n",
       "<table border=\"1\" class=\"dataframe\">\n",
       "  <thead>\n",
       "    <tr style=\"text-align: right;\">\n",
       "      <th></th>\n",
       "      <th>antecedents</th>\n",
       "      <th>consequents</th>\n",
       "      <th>antecedent support</th>\n",
       "      <th>consequent support</th>\n",
       "      <th>support</th>\n",
       "      <th>confidence</th>\n",
       "      <th>lift</th>\n",
       "      <th>leverage</th>\n",
       "      <th>conviction</th>\n",
       "    </tr>\n",
       "  </thead>\n",
       "  <tbody>\n",
       "    <tr>\n",
       "      <th>0</th>\n",
       "      <td>(eggs)</td>\n",
       "      <td>(mineral water)</td>\n",
       "      <td>0.179733</td>\n",
       "      <td>0.238267</td>\n",
       "      <td>0.050933</td>\n",
       "      <td>0.283383</td>\n",
       "      <td>1.189351</td>\n",
       "      <td>0.008109</td>\n",
       "      <td>1.062957</td>\n",
       "    </tr>\n",
       "    <tr>\n",
       "      <th>1</th>\n",
       "      <td>(mineral water)</td>\n",
       "      <td>(eggs)</td>\n",
       "      <td>0.238267</td>\n",
       "      <td>0.179733</td>\n",
       "      <td>0.050933</td>\n",
       "      <td>0.213766</td>\n",
       "      <td>1.189351</td>\n",
       "      <td>0.008109</td>\n",
       "      <td>1.043286</td>\n",
       "    </tr>\n",
       "    <tr>\n",
       "      <th>2</th>\n",
       "      <td>(spaghetti)</td>\n",
       "      <td>(mineral water)</td>\n",
       "      <td>0.174133</td>\n",
       "      <td>0.238267</td>\n",
       "      <td>0.059733</td>\n",
       "      <td>0.343032</td>\n",
       "      <td>1.439698</td>\n",
       "      <td>0.018243</td>\n",
       "      <td>1.159468</td>\n",
       "    </tr>\n",
       "    <tr>\n",
       "      <th>3</th>\n",
       "      <td>(mineral water)</td>\n",
       "      <td>(spaghetti)</td>\n",
       "      <td>0.238267</td>\n",
       "      <td>0.174133</td>\n",
       "      <td>0.059733</td>\n",
       "      <td>0.250699</td>\n",
       "      <td>1.439698</td>\n",
       "      <td>0.018243</td>\n",
       "      <td>1.102184</td>\n",
       "    </tr>\n",
       "    <tr>\n",
       "      <th>4</th>\n",
       "      <td>(chocolate)</td>\n",
       "      <td>(mineral water)</td>\n",
       "      <td>0.163867</td>\n",
       "      <td>0.238267</td>\n",
       "      <td>0.052667</td>\n",
       "      <td>0.321400</td>\n",
       "      <td>1.348907</td>\n",
       "      <td>0.013623</td>\n",
       "      <td>1.122506</td>\n",
       "    </tr>\n",
       "    <tr>\n",
       "      <th>5</th>\n",
       "      <td>(mineral water)</td>\n",
       "      <td>(chocolate)</td>\n",
       "      <td>0.238267</td>\n",
       "      <td>0.163867</td>\n",
       "      <td>0.052667</td>\n",
       "      <td>0.221041</td>\n",
       "      <td>1.348907</td>\n",
       "      <td>0.013623</td>\n",
       "      <td>1.073398</td>\n",
       "    </tr>\n",
       "  </tbody>\n",
       "</table>\n",
       "</div>"
      ],
      "text/plain": [
       "       antecedents      consequents  antecedent support  consequent support  \\\n",
       "0           (eggs)  (mineral water)            0.179733            0.238267   \n",
       "1  (mineral water)           (eggs)            0.238267            0.179733   \n",
       "2      (spaghetti)  (mineral water)            0.174133            0.238267   \n",
       "3  (mineral water)      (spaghetti)            0.238267            0.174133   \n",
       "4      (chocolate)  (mineral water)            0.163867            0.238267   \n",
       "5  (mineral water)      (chocolate)            0.238267            0.163867   \n",
       "\n",
       "    support  confidence      lift  leverage  conviction  \n",
       "0  0.050933    0.283383  1.189351  0.008109    1.062957  \n",
       "1  0.050933    0.213766  1.189351  0.008109    1.043286  \n",
       "2  0.059733    0.343032  1.439698  0.018243    1.159468  \n",
       "3  0.059733    0.250699  1.439698  0.018243    1.102184  \n",
       "4  0.052667    0.321400  1.348907  0.013623    1.122506  \n",
       "5  0.052667    0.221041  1.348907  0.013623    1.073398  "
      ]
     },
     "execution_count": 16,
     "metadata": {},
     "output_type": "execute_result"
    }
   ],
   "source": [
    "# creating asssociation rules\n",
    "res=association_rules(res, metric=\"lift\", min_threshold=1)\n",
    "\n",
    "# printing association rules\n",
    "res"
   ]
  },
  {
   "cell_type": "code",
   "execution_count": 17,
   "metadata": {},
   "outputs": [
    {
     "data": {
      "text/html": [
       "<div>\n",
       "<style scoped>\n",
       "    .dataframe tbody tr th:only-of-type {\n",
       "        vertical-align: middle;\n",
       "    }\n",
       "\n",
       "    .dataframe tbody tr th {\n",
       "        vertical-align: top;\n",
       "    }\n",
       "\n",
       "    .dataframe thead th {\n",
       "        text-align: right;\n",
       "    }\n",
       "</style>\n",
       "<table border=\"1\" class=\"dataframe\">\n",
       "  <thead>\n",
       "    <tr style=\"text-align: right;\">\n",
       "      <th></th>\n",
       "      <th>antecedents</th>\n",
       "      <th>consequents</th>\n",
       "      <th>antecedent support</th>\n",
       "      <th>consequent support</th>\n",
       "      <th>support</th>\n",
       "      <th>confidence</th>\n",
       "      <th>lift</th>\n",
       "      <th>leverage</th>\n",
       "      <th>conviction</th>\n",
       "    </tr>\n",
       "  </thead>\n",
       "  <tbody>\n",
       "    <tr>\n",
       "      <th>2</th>\n",
       "      <td>(spaghetti)</td>\n",
       "      <td>(mineral water)</td>\n",
       "      <td>0.174133</td>\n",
       "      <td>0.238267</td>\n",
       "      <td>0.059733</td>\n",
       "      <td>0.343032</td>\n",
       "      <td>1.439698</td>\n",
       "      <td>0.018243</td>\n",
       "      <td>1.159468</td>\n",
       "    </tr>\n",
       "    <tr>\n",
       "      <th>4</th>\n",
       "      <td>(chocolate)</td>\n",
       "      <td>(mineral water)</td>\n",
       "      <td>0.163867</td>\n",
       "      <td>0.238267</td>\n",
       "      <td>0.052667</td>\n",
       "      <td>0.321400</td>\n",
       "      <td>1.348907</td>\n",
       "      <td>0.013623</td>\n",
       "      <td>1.122506</td>\n",
       "    </tr>\n",
       "    <tr>\n",
       "      <th>0</th>\n",
       "      <td>(eggs)</td>\n",
       "      <td>(mineral water)</td>\n",
       "      <td>0.179733</td>\n",
       "      <td>0.238267</td>\n",
       "      <td>0.050933</td>\n",
       "      <td>0.283383</td>\n",
       "      <td>1.189351</td>\n",
       "      <td>0.008109</td>\n",
       "      <td>1.062957</td>\n",
       "    </tr>\n",
       "    <tr>\n",
       "      <th>3</th>\n",
       "      <td>(mineral water)</td>\n",
       "      <td>(spaghetti)</td>\n",
       "      <td>0.238267</td>\n",
       "      <td>0.174133</td>\n",
       "      <td>0.059733</td>\n",
       "      <td>0.250699</td>\n",
       "      <td>1.439698</td>\n",
       "      <td>0.018243</td>\n",
       "      <td>1.102184</td>\n",
       "    </tr>\n",
       "    <tr>\n",
       "      <th>5</th>\n",
       "      <td>(mineral water)</td>\n",
       "      <td>(chocolate)</td>\n",
       "      <td>0.238267</td>\n",
       "      <td>0.163867</td>\n",
       "      <td>0.052667</td>\n",
       "      <td>0.221041</td>\n",
       "      <td>1.348907</td>\n",
       "      <td>0.013623</td>\n",
       "      <td>1.073398</td>\n",
       "    </tr>\n",
       "    <tr>\n",
       "      <th>1</th>\n",
       "      <td>(mineral water)</td>\n",
       "      <td>(eggs)</td>\n",
       "      <td>0.238267</td>\n",
       "      <td>0.179733</td>\n",
       "      <td>0.050933</td>\n",
       "      <td>0.213766</td>\n",
       "      <td>1.189351</td>\n",
       "      <td>0.008109</td>\n",
       "      <td>1.043286</td>\n",
       "    </tr>\n",
       "  </tbody>\n",
       "</table>\n",
       "</div>"
      ],
      "text/plain": [
       "       antecedents      consequents  antecedent support  consequent support  \\\n",
       "2      (spaghetti)  (mineral water)            0.174133            0.238267   \n",
       "4      (chocolate)  (mineral water)            0.163867            0.238267   \n",
       "0           (eggs)  (mineral water)            0.179733            0.238267   \n",
       "3  (mineral water)      (spaghetti)            0.238267            0.174133   \n",
       "5  (mineral water)      (chocolate)            0.238267            0.163867   \n",
       "1  (mineral water)           (eggs)            0.238267            0.179733   \n",
       "\n",
       "    support  confidence      lift  leverage  conviction  \n",
       "2  0.059733    0.343032  1.439698  0.018243    1.159468  \n",
       "4  0.052667    0.321400  1.348907  0.013623    1.122506  \n",
       "0  0.050933    0.283383  1.189351  0.008109    1.062957  \n",
       "3  0.059733    0.250699  1.439698  0.018243    1.102184  \n",
       "5  0.052667    0.221041  1.348907  0.013623    1.073398  \n",
       "1  0.050933    0.213766  1.189351  0.008109    1.043286  "
      ]
     },
     "execution_count": 17,
     "metadata": {},
     "output_type": "execute_result"
    }
   ],
   "source": [
    "# Sort values based on confidence\n",
    "res.sort_values(\"confidence\",ascending=False)"
   ]
  }
 ],
 "metadata": {
  "kernelspec": {
   "display_name": "Python 3.10.4 64-bit",
   "language": "python",
   "name": "python3"
  },
  "language_info": {
   "codemirror_mode": {
    "name": "ipython",
    "version": 3
   },
   "file_extension": ".py",
   "mimetype": "text/x-python",
   "name": "python",
   "nbconvert_exporter": "python",
   "pygments_lexer": "ipython3",
   "version": "3.10.4"
  },
  "orig_nbformat": 4,
  "vscode": {
   "interpreter": {
    "hash": "916dbcbb3f70747c44a77c7bcd40155683ae19c65e1c03b4aa3499c5328201f1"
   }
  }
 },
 "nbformat": 4,
 "nbformat_minor": 2
}
